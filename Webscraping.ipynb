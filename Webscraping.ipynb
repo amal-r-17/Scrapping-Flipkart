{
 "cells": [
  {
   "cell_type": "markdown",
   "metadata": {},
   "source": [
    "# Importing Libraries"
   ]
  },
  {
   "cell_type": "code",
   "execution_count": 53,
   "metadata": {},
   "outputs": [],
   "source": [
    "import requests\n",
    "import csv\n",
    "import pandas as pd\n",
    "from bs4 import BeautifulSoup\n",
    "import random"
   ]
  },
  {
   "cell_type": "markdown",
   "metadata": {},
   "source": [
    "# Getting the URL to Scrap"
   ]
  },
  {
   "cell_type": "code",
   "execution_count": 54,
   "metadata": {},
   "outputs": [],
   "source": [
    "url = \"https://www.flipkart.com/search?q=mobile&otracker=search&otracker1=search&marketplace=FLIPKART&as-show=on&as=off&as-pos=1&as-type=HISTORY&page=\""
   ]
  },
  {
   "cell_type": "markdown",
   "metadata": {},
   "source": [
    "# Scrapping\n",
    "\n",
    "### Iterating through 15 pages of the website and scrapping the data about the smartphones in all the Pages"
   ]
  },
  {
   "cell_type": "code",
   "execution_count": 55,
   "metadata": {},
   "outputs": [],
   "source": [
    "phodict ={\"Name\":[],\n",
    "\"ROM(GB)\":[],\n",
    "\"RAM(GB)\":[],\n",
    "\"Ratings\":[],\n",
    "\"Price\":[]} # Dictionary to store the data\n",
    "for i in range(1,15):\n",
    "    page = url+str(i)\n",
    "    #print(page)\n",
    "    response = requests.get(page)\n",
    "    soup = BeautifulSoup(response.content,\"html.parser\")\n",
    "    main_boxs = soup.find_all(\"div\",{\"class\":\"_4ddWXP\"})\n",
    "    for box in main_boxs:\n",
    "        try:\n",
    "            name  = box.find(\"a\",{\"class\":\"s1Q9rs\"}).text.strip()\n",
    "            if len(name.split(\",\"))!=2: continue\n",
    "            rom = int(name.split(\",\")[1][:-1].replace(\"GB\",\"\").strip())\n",
    "            ram = int(box.find(\"div\",{\"class\":\"_3Djpdu\"}).text.replace(\"RAM\",\"\").replace(\"GB\",\"\").strip())\n",
    "            rating = box.find(\"div\",{\"class\":\"_3LWZlK\"}).text.strip()\n",
    "            price = int(box.find(\"div\",{\"class\":\"_30jeq3\"}).text.replace(\"₹\",\"\").replace(\",\",\"\").strip())\n",
    "            phodict[\"Name\"].append(name.split(\",\")[0]+\")\")\n",
    "            phodict[\"ROM(GB)\"].append(rom)\n",
    "            phodict[\"RAM(GB)\"].append(ram)\n",
    "            phodict[\"Ratings\"].append(rating)\n",
    "            phodict[\"Price\"].append(price)\n",
    "        except Exception as e:\n",
    "            pass "
   ]
  },
  {
   "cell_type": "code",
   "execution_count": 56,
   "metadata": {},
   "outputs": [
    {
     "name": "stdout",
     "output_type": "stream",
     "text": [
      "Name 357\n",
      "ROM(GB) 357\n",
      "RAM(GB) 357\n",
      "Ratings 357\n",
      "Price 357\n"
     ]
    }
   ],
   "source": [
    "# checking the dictionary created\n",
    "for i in phodict.keys():\n",
    "    print(i,len(phodict[i]))"
   ]
  },
  {
   "cell_type": "markdown",
   "metadata": {},
   "source": [
    "# Creating a Dataframe"
   ]
  },
  {
   "cell_type": "code",
   "execution_count": 57,
   "metadata": {},
   "outputs": [],
   "source": [
    "df = pd.DataFrame(phodict)"
   ]
  },
  {
   "cell_type": "code",
   "execution_count": 58,
   "metadata": {},
   "outputs": [
    {
     "data": {
      "text/html": [
       "<div>\n",
       "<style scoped>\n",
       "    .dataframe tbody tr th:only-of-type {\n",
       "        vertical-align: middle;\n",
       "    }\n",
       "\n",
       "    .dataframe tbody tr th {\n",
       "        vertical-align: top;\n",
       "    }\n",
       "\n",
       "    .dataframe thead th {\n",
       "        text-align: right;\n",
       "    }\n",
       "</style>\n",
       "<table border=\"1\" class=\"dataframe\">\n",
       "  <thead>\n",
       "    <tr style=\"text-align: right;\">\n",
       "      <th></th>\n",
       "      <th>Name</th>\n",
       "      <th>ROM(GB)</th>\n",
       "      <th>RAM(GB)</th>\n",
       "      <th>Ratings</th>\n",
       "      <th>Price</th>\n",
       "    </tr>\n",
       "  </thead>\n",
       "  <tbody>\n",
       "    <tr>\n",
       "      <th>0</th>\n",
       "      <td>REDMI 9i (Midnight Black)</td>\n",
       "      <td>64</td>\n",
       "      <td>4</td>\n",
       "      <td>4.3</td>\n",
       "      <td>8299</td>\n",
       "    </tr>\n",
       "    <tr>\n",
       "      <th>1</th>\n",
       "      <td>realme C20 (Cool Grey)</td>\n",
       "      <td>32</td>\n",
       "      <td>2</td>\n",
       "      <td>4.4</td>\n",
       "      <td>6799</td>\n",
       "    </tr>\n",
       "    <tr>\n",
       "      <th>2</th>\n",
       "      <td>Infinix Hot 10 (Obsidian Black)</td>\n",
       "      <td>64</td>\n",
       "      <td>4</td>\n",
       "      <td>4.4</td>\n",
       "      <td>8999</td>\n",
       "    </tr>\n",
       "    <tr>\n",
       "      <th>3</th>\n",
       "      <td>Infinix Hot 10 (Ocean Wave)</td>\n",
       "      <td>64</td>\n",
       "      <td>4</td>\n",
       "      <td>4.4</td>\n",
       "      <td>8999</td>\n",
       "    </tr>\n",
       "    <tr>\n",
       "      <th>4</th>\n",
       "      <td>Infinix Hot 10 (Moonlight Jade)</td>\n",
       "      <td>64</td>\n",
       "      <td>4</td>\n",
       "      <td>4.4</td>\n",
       "      <td>8999</td>\n",
       "    </tr>\n",
       "    <tr>\n",
       "      <th>...</th>\n",
       "      <td>...</td>\n",
       "      <td>...</td>\n",
       "      <td>...</td>\n",
       "      <td>...</td>\n",
       "      <td>...</td>\n",
       "    </tr>\n",
       "    <tr>\n",
       "      <th>352</th>\n",
       "      <td>REDMI 9 Power (Fiery Red)</td>\n",
       "      <td>128</td>\n",
       "      <td>4</td>\n",
       "      <td>4.3</td>\n",
       "      <td>11999</td>\n",
       "    </tr>\n",
       "    <tr>\n",
       "      <th>353</th>\n",
       "      <td>SAMSUNG Galaxy F02s (Diamond Black)</td>\n",
       "      <td>64</td>\n",
       "      <td>4</td>\n",
       "      <td>4.2</td>\n",
       "      <td>9999</td>\n",
       "    </tr>\n",
       "    <tr>\n",
       "      <th>354</th>\n",
       "      <td>Nokia 2.4 (Charcoal Grey)</td>\n",
       "      <td>64</td>\n",
       "      <td>3</td>\n",
       "      <td>4</td>\n",
       "      <td>9999</td>\n",
       "    </tr>\n",
       "    <tr>\n",
       "      <th>355</th>\n",
       "      <td>REDMI 9i (Midnight Black)</td>\n",
       "      <td>128</td>\n",
       "      <td>4</td>\n",
       "      <td>4.3</td>\n",
       "      <td>9299</td>\n",
       "    </tr>\n",
       "    <tr>\n",
       "      <th>356</th>\n",
       "      <td>realme C3 (Frozen Blue)</td>\n",
       "      <td>32</td>\n",
       "      <td>3</td>\n",
       "      <td>4.4</td>\n",
       "      <td>8999</td>\n",
       "    </tr>\n",
       "  </tbody>\n",
       "</table>\n",
       "<p>357 rows × 5 columns</p>\n",
       "</div>"
      ],
      "text/plain": [
       "                                    Name  ROM(GB)  RAM(GB) Ratings  Price\n",
       "0              REDMI 9i (Midnight Black)       64        4     4.3   8299\n",
       "1                 realme C20 (Cool Grey)       32        2     4.4   6799\n",
       "2        Infinix Hot 10 (Obsidian Black)       64        4     4.4   8999\n",
       "3            Infinix Hot 10 (Ocean Wave)       64        4     4.4   8999\n",
       "4        Infinix Hot 10 (Moonlight Jade)       64        4     4.4   8999\n",
       "..                                   ...      ...      ...     ...    ...\n",
       "352            REDMI 9 Power (Fiery Red)      128        4     4.3  11999\n",
       "353  SAMSUNG Galaxy F02s (Diamond Black)       64        4     4.2   9999\n",
       "354            Nokia 2.4 (Charcoal Grey)       64        3       4   9999\n",
       "355            REDMI 9i (Midnight Black)      128        4     4.3   9299\n",
       "356              realme C3 (Frozen Blue)       32        3     4.4   8999\n",
       "\n",
       "[357 rows x 5 columns]"
      ]
     },
     "execution_count": 58,
     "metadata": {},
     "output_type": "execute_result"
    }
   ],
   "source": [
    "df"
   ]
  },
  {
   "cell_type": "markdown",
   "metadata": {},
   "source": [
    "# Extracting Smartphones with higher than 6 GB RAM"
   ]
  },
  {
   "cell_type": "code",
   "execution_count": 72,
   "metadata": {},
   "outputs": [],
   "source": [
    "df_highram = df[df[\"RAM(GB)\"]>=6]"
   ]
  },
  {
   "cell_type": "code",
   "execution_count": 73,
   "metadata": {
    "scrolled": false
   },
   "outputs": [],
   "source": [
    "df_highram.reset_index(inplace=True)"
   ]
  },
  {
   "cell_type": "code",
   "execution_count": 74,
   "metadata": {},
   "outputs": [],
   "source": [
    "df_highram.drop(\"index\",axis = 1,inplace = True)"
   ]
  },
  {
   "cell_type": "code",
   "execution_count": null,
   "metadata": {},
   "outputs": [],
   "source": []
  },
  {
   "cell_type": "markdown",
   "metadata": {},
   "source": [
    "# Displaying Final Dataframe"
   ]
  },
  {
   "cell_type": "code",
   "execution_count": 75,
   "metadata": {},
   "outputs": [
    {
     "data": {
      "text/html": [
       "<div>\n",
       "<style scoped>\n",
       "    .dataframe tbody tr th:only-of-type {\n",
       "        vertical-align: middle;\n",
       "    }\n",
       "\n",
       "    .dataframe tbody tr th {\n",
       "        vertical-align: top;\n",
       "    }\n",
       "\n",
       "    .dataframe thead th {\n",
       "        text-align: right;\n",
       "    }\n",
       "</style>\n",
       "<table border=\"1\" class=\"dataframe\">\n",
       "  <thead>\n",
       "    <tr style=\"text-align: right;\">\n",
       "      <th></th>\n",
       "      <th>Name</th>\n",
       "      <th>ROM(GB)</th>\n",
       "      <th>RAM(GB)</th>\n",
       "      <th>Ratings</th>\n",
       "      <th>Price</th>\n",
       "    </tr>\n",
       "  </thead>\n",
       "  <tbody>\n",
       "    <tr>\n",
       "      <th>0</th>\n",
       "      <td>POCO M3 (Power Black)</td>\n",
       "      <td>64</td>\n",
       "      <td>6</td>\n",
       "      <td>4.3</td>\n",
       "      <td>10999</td>\n",
       "    </tr>\n",
       "    <tr>\n",
       "      <th>1</th>\n",
       "      <td>POCO M3 (Cool Blue)</td>\n",
       "      <td>64</td>\n",
       "      <td>6</td>\n",
       "      <td>4.3</td>\n",
       "      <td>10999</td>\n",
       "    </tr>\n",
       "    <tr>\n",
       "      <th>2</th>\n",
       "      <td>POCO M3 (Power Black)</td>\n",
       "      <td>128</td>\n",
       "      <td>6</td>\n",
       "      <td>4.3</td>\n",
       "      <td>11999</td>\n",
       "    </tr>\n",
       "    <tr>\n",
       "      <th>3</th>\n",
       "      <td>POCO X3 Pro (Steel Blue)</td>\n",
       "      <td>128</td>\n",
       "      <td>6</td>\n",
       "      <td>4.5</td>\n",
       "      <td>18999</td>\n",
       "    </tr>\n",
       "    <tr>\n",
       "      <th>4</th>\n",
       "      <td>realme Narzo 20 Pro (Black Ninja)</td>\n",
       "      <td>64</td>\n",
       "      <td>6</td>\n",
       "      <td>4.3</td>\n",
       "      <td>14999</td>\n",
       "    </tr>\n",
       "    <tr>\n",
       "      <th>...</th>\n",
       "      <td>...</td>\n",
       "      <td>...</td>\n",
       "      <td>...</td>\n",
       "      <td>...</td>\n",
       "      <td>...</td>\n",
       "    </tr>\n",
       "    <tr>\n",
       "      <th>143</th>\n",
       "      <td>SAMSUNG Galaxy M42 5G (Prism Dot Gray)</td>\n",
       "      <td>128</td>\n",
       "      <td>6</td>\n",
       "      <td>4.4</td>\n",
       "      <td>22990</td>\n",
       "    </tr>\n",
       "    <tr>\n",
       "      <th>144</th>\n",
       "      <td>REDMI Note 10 (Frost White)</td>\n",
       "      <td>128</td>\n",
       "      <td>6</td>\n",
       "      <td>4.3</td>\n",
       "      <td>16199</td>\n",
       "    </tr>\n",
       "    <tr>\n",
       "      <th>145</th>\n",
       "      <td>SAMSUNG Galaxy A51 (Prism Crush Black)</td>\n",
       "      <td>128</td>\n",
       "      <td>8</td>\n",
       "      <td>4.3</td>\n",
       "      <td>22499</td>\n",
       "    </tr>\n",
       "    <tr>\n",
       "      <th>146</th>\n",
       "      <td>POCO M2 Pro (Out of the Blue)</td>\n",
       "      <td>64</td>\n",
       "      <td>6</td>\n",
       "      <td>4.4</td>\n",
       "      <td>13999</td>\n",
       "    </tr>\n",
       "    <tr>\n",
       "      <th>147</th>\n",
       "      <td>POCO M2 Pro (Out of the Blue)</td>\n",
       "      <td>128</td>\n",
       "      <td>6</td>\n",
       "      <td>4.4</td>\n",
       "      <td>15999</td>\n",
       "    </tr>\n",
       "  </tbody>\n",
       "</table>\n",
       "<p>148 rows × 5 columns</p>\n",
       "</div>"
      ],
      "text/plain": [
       "                                       Name  ROM(GB)  RAM(GB) Ratings  Price\n",
       "0                     POCO M3 (Power Black)       64        6     4.3  10999\n",
       "1                       POCO M3 (Cool Blue)       64        6     4.3  10999\n",
       "2                     POCO M3 (Power Black)      128        6     4.3  11999\n",
       "3                  POCO X3 Pro (Steel Blue)      128        6     4.5  18999\n",
       "4         realme Narzo 20 Pro (Black Ninja)       64        6     4.3  14999\n",
       "..                                      ...      ...      ...     ...    ...\n",
       "143  SAMSUNG Galaxy M42 5G (Prism Dot Gray)      128        6     4.4  22990\n",
       "144             REDMI Note 10 (Frost White)      128        6     4.3  16199\n",
       "145  SAMSUNG Galaxy A51 (Prism Crush Black)      128        8     4.3  22499\n",
       "146           POCO M2 Pro (Out of the Blue)       64        6     4.4  13999\n",
       "147           POCO M2 Pro (Out of the Blue)      128        6     4.4  15999\n",
       "\n",
       "[148 rows x 5 columns]"
      ]
     },
     "execution_count": 75,
     "metadata": {},
     "output_type": "execute_result"
    }
   ],
   "source": [
    "df_highram"
   ]
  },
  {
   "cell_type": "code",
   "execution_count": null,
   "metadata": {},
   "outputs": [],
   "source": []
  },
  {
   "cell_type": "code",
   "execution_count": null,
   "metadata": {},
   "outputs": [],
   "source": []
  },
  {
   "cell_type": "code",
   "execution_count": null,
   "metadata": {},
   "outputs": [],
   "source": []
  },
  {
   "cell_type": "code",
   "execution_count": null,
   "metadata": {},
   "outputs": [],
   "source": []
  },
  {
   "cell_type": "code",
   "execution_count": null,
   "metadata": {},
   "outputs": [],
   "source": [
    "\n"
   ]
  },
  {
   "cell_type": "code",
   "execution_count": null,
   "metadata": {},
   "outputs": [],
   "source": []
  }
 ],
 "metadata": {
  "kernelspec": {
   "display_name": "Python 3",
   "language": "python",
   "name": "python3"
  },
  "language_info": {
   "codemirror_mode": {
    "name": "ipython",
    "version": 3
   },
   "file_extension": ".py",
   "mimetype": "text/x-python",
   "name": "python",
   "nbconvert_exporter": "python",
   "pygments_lexer": "ipython3",
   "version": "3.8.3"
  }
 },
 "nbformat": 4,
 "nbformat_minor": 4
}
